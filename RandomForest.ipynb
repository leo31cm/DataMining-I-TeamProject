{
 "cells": [
  {
   "cell_type": "code",
   "execution_count": 12,
   "metadata": {},
   "outputs": [],
   "source": [
    "# imports \n",
    "import functions\n",
    "import pandas as pd\n",
    "import numpy as np\n",
    "import matplotlib.pyplot as plt\n",
    "import sklearn\n",
    "from sklearn import ensemble, preprocessing, metrics"
   ]
  },
  {
   "cell_type": "code",
   "execution_count": 6,
   "metadata": {},
   "outputs": [],
   "source": [
    "x_train, y_train = functions.get_data()"
   ]
  },
  {
   "cell_type": "code",
   "execution_count": 7,
   "metadata": {},
   "outputs": [
    {
     "name": "stdout",
     "output_type": "stream",
     "text": [
      "29138\n",
      "29138\n",
      "7285\n",
      "7285\n"
     ]
    }
   ],
   "source": [
    "print(len(train_x))\n",
    "print(len(train_y))\n",
    "print(len(test_x))\n",
    "print(len(test_y))"
   ]
  },
  {
   "cell_type": "code",
   "execution_count": 26,
   "metadata": {},
   "outputs": [
    {
     "name": "stderr",
     "output_type": "stream",
     "text": [
      "/Users/ghost/anaconda3/lib/python3.7/site-packages/ipykernel_launcher.py:3: DataConversionWarning: A column-vector y was passed when a 1d array was expected. Please change the shape of y to (n_samples,), for example using ravel().\n",
      "  This is separate from the ipykernel package so we can avoid doing imports until\n"
     ]
    }
   ],
   "source": [
    "###### Random forest ######\n",
    "forest = ensemble.RandomForestClassifier(n_estimators = 100)\n",
    "forest_fit = forest.fit(train_x, train_y)\n",
    "\n",
    "# predict\n",
    "test_y_predicted = forest.predict(test_x)"
   ]
  },
  {
   "cell_type": "code",
   "execution_count": 27,
   "metadata": {},
   "outputs": [
    {
     "name": "stdout",
     "output_type": "stream",
     "text": [
      "Feature ranking:\n",
      "1. Credit Score (0.258303)\n",
      "2. Current Loan Amount (0.108093)\n",
      "3. Annual Income (0.084643)\n",
      "4. Monthly Debt (0.079641)\n",
      "5. Maximum Open Credit (0.077889)\n",
      "6. Current Credit Balance (0.076574)\n",
      "7. Years of Credit History (0.074731)\n",
      "8. Months since last delinquent (0.069601)\n",
      "9. Number of Open Accounts (0.054757)\n",
      "10. Years in current job (0.038399)\n",
      "11. Number of Credit Problems (0.010240)\n",
      "12. Term (0.010085)\n",
      "13. Purpose_Debt Consolidation (0.007618)\n",
      "14. Bankruptcies (0.006886)\n",
      "15. Home Ownership_Rent (0.006008)\n",
      "16. Home Ownership_Home Mortgage (0.005450)\n",
      "17. Purpose_Home Improvements (0.004437)\n",
      "18. Purpose_other (0.004387)\n",
      "19. Home Ownership_Own Home (0.003855)\n",
      "20. Tax Liens (0.003551)\n",
      "21. Purpose_Other (0.003184)\n",
      "22. Purpose_Business Loan (0.002760)\n",
      "23. Purpose_small_business (0.001827)\n",
      "24. Purpose_Medical Bills (0.001570)\n",
      "25. Purpose_Buy a Car (0.001507)\n",
      "26. Purpose_Take a Trip (0.000911)\n",
      "27. Purpose_Buy House (0.000876)\n",
      "28. Purpose_vacation (0.000734)\n",
      "29. Purpose_major_purchase (0.000600)\n",
      "30. Purpose_moving (0.000282)\n",
      "31. Purpose_wedding (0.000254)\n",
      "32. Purpose_Educational Expenses (0.000186)\n",
      "33. Home Ownership_HaveMortgage (0.000161)\n",
      "34. Purpose_renewable_energy (0.000001)\n"
     ]
    }
   ],
   "source": [
    "###### Random forest -- Feature Importance ######\n",
    "\n",
    "importances = forest.feature_importances_\n",
    "std = np.std([tree.feature_importances_ for tree in forest.estimators_], axis=0)\n",
    "indices = np.argsort(importances)[::-1]\n",
    "\n",
    "print(\"Feature ranking:\")\n",
    "for f in range(train_x.shape[1]):\n",
    "    print(\"%d. %s (%f)\" % (f + 1, train_x.columns[indices[f]], importances[indices[f]]))"
   ]
  },
  {
   "cell_type": "code",
   "execution_count": 28,
   "metadata": {},
   "outputs": [
    {
     "name": "stdout",
     "output_type": "stream",
     "text": [
      "Accuracy: 0.9179135209334248\n",
      "AUC: 0.8002215141867184\n"
     ]
    }
   ],
   "source": [
    "###### Random forest -- Evaluation ######\n",
    "\n",
    "# accuracy\n",
    "accuracy = metrics.accuracy_score(test_y, test_y_predicted)\n",
    "print(\"Accuracy: {0}\".format(accuracy))\n",
    "\n",
    "# AUC index, excellent = 0.9~1, good = 0.8~0.9, soso = 0.7~0.8, not good = 0.6~0.7, bad = 0.6~0.7\n",
    "fpr, tpr, thresholds = metrics.roc_curve(test_y, test_y_predicted)\n",
    "auc = metrics.auc(fpr, tpr)\n",
    "print(\"AUC: {0}\".format(auc))"
   ]
  },
  {
   "cell_type": "code",
   "execution_count": null,
   "metadata": {},
   "outputs": [],
   "source": []
  }
 ],
 "metadata": {
  "kernelspec": {
   "display_name": "Python 3",
   "language": "python",
   "name": "python3"
  },
  "language_info": {
   "codemirror_mode": {
    "name": "ipython",
    "version": 3
   },
   "file_extension": ".py",
   "mimetype": "text/x-python",
   "name": "python",
   "nbconvert_exporter": "python",
   "pygments_lexer": "ipython3",
   "version": "3.7.3"
  }
 },
 "nbformat": 4,
 "nbformat_minor": 2
}
