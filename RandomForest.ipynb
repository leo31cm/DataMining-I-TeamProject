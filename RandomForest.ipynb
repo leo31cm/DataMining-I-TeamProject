{
 "cells": [
  {
   "cell_type": "code",
   "execution_count": 1,
   "metadata": {},
   "outputs": [],
   "source": [
    "# imports \n",
    "import functions\n",
    "import pandas as pd\n",
    "import numpy as np\n",
    "import matplotlib.pyplot as plt\n",
    "import sklearn\n",
    "from sklearn.model_selection import train_test_split\n",
    "from sklearn import ensemble, preprocessing, metrics\n",
    "from sklearn.model_selection import cross_val_score\n",
    "from sklearn.metrics import f1_score\n",
    "from sklearn.metrics import roc_curve, auc"
   ]
  },
  {
   "cell_type": "code",
   "execution_count": 2,
   "metadata": {},
   "outputs": [],
   "source": [
    "x, y = functions.get_data(standard=False,minmax=True)"
   ]
  },
  {
   "cell_type": "code",
   "execution_count": 3,
   "metadata": {},
   "outputs": [],
   "source": [
    "from sklearn.utils import resample\n",
    "import copy"
   ]
  },
  {
   "cell_type": "code",
   "execution_count": 4,
   "metadata": {},
   "outputs": [],
   "source": [
    "df = copy.copy(x)\n",
    "df['Loan Status'] = y"
   ]
  },
  {
   "cell_type": "code",
   "execution_count": 5,
   "metadata": {},
   "outputs": [
    {
     "data": {
      "text/plain": [
       "1    7451\n",
       "0    7451\n",
       "Name: Loan Status, dtype: int64"
      ]
     },
     "execution_count": 5,
     "metadata": {},
     "output_type": "execute_result"
    }
   ],
   "source": [
    "# Separate majority and minority classes\n",
    "df_majority = df[df['Loan Status'] ==0]\n",
    "df_minority = df[df['Loan Status'] ==1]\n",
    " \n",
    "# Upsample minority class\n",
    "df_minority_upsampled = resample(df_minority, \n",
    "                                 replace=True,     # sample with replacement\n",
    "                                 n_samples=7451,    # to match majority class\n",
    "                                 random_state=123) # reproducible results\n",
    " \n",
    "# Combine majority class with upsampled minority class\n",
    "df_upsampled = pd.concat([df_majority, df_minority_upsampled])\n",
    " \n",
    "# Display new class counts\n",
    "df_upsampled['Loan Status'].value_counts()\n",
    "# 1    7451\n",
    "# 0    7451"
   ]
  },
  {
   "cell_type": "code",
   "execution_count": 6,
   "metadata": {},
   "outputs": [],
   "source": [
    "# split dataset into train and test data\n",
    "x_train, x_test, y_train, y_test = train_test_split(df_upsampled.drop(columns='Loan Status'), df_upsampled['Loan Status'], test_size=0.33, random_state=10)\n"
   ]
  },
  {
   "cell_type": "code",
   "execution_count": 7,
   "metadata": {},
   "outputs": [
    {
     "name": "stdout",
     "output_type": "stream",
     "text": [
      "9984\n",
      "9984\n",
      "4918\n",
      "4918\n"
     ]
    }
   ],
   "source": [
    "print(len(x_train))\n",
    "print(len(y_train))\n",
    "print(len(x_test))\n",
    "print(len(y_test))"
   ]
  },
  {
   "cell_type": "code",
   "execution_count": 8,
   "metadata": {
    "scrolled": true
   },
   "outputs": [],
   "source": [
    "###### Random forest ######\n",
    "scores = []\n",
    "\n",
    "forest = ensemble.RandomForestClassifier(n_estimators = 10, max_depth = 10)\n",
    "#forest_fit = forest.fit(x_train, y_train)\n",
    "\n",
    "# training - get results\n",
    "scores.append(cross_val_score(forest, x_train, y_train, cv = 10))"
   ]
  },
  {
   "cell_type": "code",
   "execution_count": 21,
   "metadata": {},
   "outputs": [],
   "source": [
    "from skopt.space import Real, Integer\n",
    "from skopt.utils import use_named_args\n",
    "\n",
    "n_features = x_train.shape[1]\n",
    "\n",
    "# The list of hyper-parameters we want to optimize. For each one we define the bounds,\n",
    "# the corresponding scikit-learn parameter name, as well as how to sample values\n",
    "# from that dimension (`'log-uniform'` for the learning rate)\n",
    "space  = [Integer(5, 20, name='n_estimators'),\n",
    "          Integer(1, 15, name='max_depth'),\n",
    "          Integer(1, n_features, name='max_features'),\n",
    "          Integer(2, 100, name='min_samples_split'),\n",
    "          Integer(1, 100, name='min_samples_leaf')]\n",
    "\n",
    "# this decorator allows your objective function to receive a the parameters as\n",
    "# keyword arguments. This is particularly convenient when you want to set scikit-learn\n",
    "# estimator parameters\n",
    "@use_named_args(space)\n",
    "def objective(**params):\n",
    "    forest.set_params(**params)\n",
    "\n",
    "    return -np.mean(cross_val_score(forest, x_train, y_train, cv=10, n_jobs=-1,\n",
    "                                    scoring=\"neg_mean_absolute_error\"))"
   ]
  },
  {
   "cell_type": "code",
   "execution_count": 22,
   "metadata": {},
   "outputs": [
    {
     "name": "stderr",
     "output_type": "stream",
     "text": [
      "/Users/ghost/anaconda3/lib/python3.7/site-packages/skopt/optimizer/optimizer.py:399: UserWarning: The objective has been evaluated at this point before.\n",
      "  warnings.warn(\"The objective has been evaluated \"\n"
     ]
    },
    {
     "data": {
      "text/plain": [
       "'Best score=0.3351'"
      ]
     },
     "execution_count": 22,
     "metadata": {},
     "output_type": "execute_result"
    }
   ],
   "source": [
    "from skopt import gp_minimize\n",
    "forest_gp = gp_minimize(objective, space, n_calls=20, random_state=0)\n",
    "\n",
    "\"Best score=%.4f\" % forest_gp.fun"
   ]
  },
  {
   "cell_type": "code",
   "execution_count": 23,
   "metadata": {},
   "outputs": [
    {
     "name": "stdout",
     "output_type": "stream",
     "text": [
      "Best parameters:\n",
      "- n_estimators=20\n",
      "- max_depth=15\n",
      "- max_features=34\n",
      "- min_samples_split=2\n",
      "- min_samples_leaf=1\n"
     ]
    }
   ],
   "source": [
    "print(\"\"\"Best parameters:\n",
    "- n_estimators=%d\n",
    "- max_depth=%d\n",
    "- max_features=%d\n",
    "- min_samples_split=%d\n",
    "- min_samples_leaf=%d\"\"\" % (forest_gp.x[0], forest_gp.x[1], \n",
    "                            forest_gp.x[2], forest_gp.x[3], \n",
    "                            forest_gp.x[4]))"
   ]
  },
  {
   "cell_type": "code",
   "execution_count": 24,
   "metadata": {},
   "outputs": [
    {
     "data": {
      "text/plain": [
       "<matplotlib.axes._subplots.AxesSubplot at 0x1a1fd536a0>"
      ]
     },
     "execution_count": 24,
     "metadata": {},
     "output_type": "execute_result"
    },
    {
     "data": {
      "image/png": "[encoded data removed]",
      "text/plain": [
       "<Figure size 432x288 with 1 Axes>"
      ]
     },
     "metadata": {
      "needs_background": "light"
     },
     "output_type": "display_data"
    }
   ],
   "source": [
    "from skopt.plots import plot_convergence\n",
    "\n",
    "plot_convergence(forest_gp)"
   ]
  },
  {
   "cell_type": "code",
   "execution_count": 25,
   "metadata": {},
   "outputs": [],
   "source": [
    "forest = ensemble.RandomForestClassifier(n_estimators = 10, max_depth = 15, max_features=25, min_samples_split=2, min_samples_leaf=1)\n",
    "forest_fit = forest.fit(x_train, y_train)\n",
    "\n"
   ]
  },
  {
   "cell_type": "code",
   "execution_count": 26,
   "metadata": {},
   "outputs": [
    {
     "name": "stdout",
     "output_type": "stream",
     "text": [
      "Feature ranking:\n",
      "1. Current Loan Amount (0.221574)\n",
      "2. Annual Income (0.109675)\n",
      "3. Credit Score (0.097419)\n",
      "4. Monthly Debt (0.096360)\n",
      "5. Years of Credit History (0.081252)\n",
      "6. Current Credit Balance (0.080468)\n",
      "7. Maximum Open Credit (0.076400)\n",
      "8. Months since last delinquent (0.070492)\n",
      "9. Number of Open Accounts (0.056492)\n",
      "10. Years in current job (0.038931)\n",
      "11. Term (0.011975)\n",
      "12. Number of Credit Problems (0.006997)\n",
      "13. Home Ownership_Rent (0.006336)\n",
      "14. Home Ownership_Home Mortgage (0.006334)\n",
      "15. Bankruptcies (0.005990)\n",
      "16. Purpose_Debt Consolidation (0.005415)\n",
      "17. Home Ownership_Own Home (0.004711)\n",
      "18. Purpose_Home Improvements (0.004266)\n",
      "19. Tax Liens (0.003663)\n",
      "20. Purpose_Other (0.003402)\n",
      "21. Purpose_other (0.002561)\n",
      "22. Purpose_Medical Bills (0.002318)\n",
      "23. Purpose_Business Loan (0.001585)\n",
      "24. Purpose_Buy a Car (0.001031)\n",
      "25. Purpose_Buy House (0.000992)\n",
      "26. Purpose_major_purchase (0.000960)\n",
      "27. Purpose_moving (0.000835)\n",
      "28. Purpose_Take a Trip (0.000600)\n",
      "29. Purpose_small_business (0.000451)\n",
      "30. Purpose_vacation (0.000262)\n",
      "31. Purpose_wedding (0.000149)\n",
      "32. Home Ownership_HaveMortgage (0.000100)\n",
      "33. Purpose_Educational Expenses (0.000000)\n",
      "34. Purpose_renewable_energy (0.000000)\n"
     ]
    }
   ],
   "source": [
    "###### Random forest -- Feature Importance ######\n",
    "\n",
    "importances = forest.feature_importances_\n",
    "std = np.std([tree.feature_importances_ for tree in forest.estimators_], axis=0)\n",
    "indices = np.argsort(importances)[::-1]\n",
    "\n",
    "print(\"Feature ranking:\")\n",
    "for f in range(x_train.shape[1]):\n",
    "    print(\"%d. %s (%f)\" % (f + 1, x_train.columns[indices[f]], importances[indices[f]]))"
   ]
  },
  {
   "cell_type": "code",
   "execution_count": 27,
   "metadata": {},
   "outputs": [],
   "source": [
    "# predict\n",
    "train_y_predicted = forest.predict(x_train)\n",
    "test_y_predicted = forest.predict(x_test)"
   ]
  },
  {
   "cell_type": "code",
   "execution_count": 28,
   "metadata": {},
   "outputs": [
    {
     "name": "stdout",
     "output_type": "stream",
     "text": [
      "Training Accuracy: 0.9419070512820513\n",
      "Testing Accuracy: 0.6525010166734445\n",
      "AUC: 0.6522130626306027\n",
      "F1: 0.6515814830791711\n"
     ]
    },
    {
     "data": {
      "image/png": "[encoded data removed]",
      "text/plain": [
       "<Figure size 432x288 with 1 Axes>"
      ]
     },
     "metadata": {
      "needs_background": "light"
     },
     "output_type": "display_data"
    }
   ],
   "source": [
    "###### Random forest -- Evaluation ######\n",
    "\n",
    "# accuracy\n",
    "train_accuracy = metrics.accuracy_score(y_train, train_y_predicted)\n",
    "test_accuracy = metrics.accuracy_score(y_test, test_y_predicted)\n",
    "print(\"Training Accuracy: {0}\".format(train_accuracy))\n",
    "print(\"Testing Accuracy: {0}\".format(test_accuracy))\n",
    "\n",
    "# AUC index, excellent = 0.9~1, good = 0.8~0.9, soso = 0.7~0.8, not good = 0.6~0.7, bad = 0.6~0.7\n",
    "# AUC is a good way for evaluation for binary classification problem\n",
    "fpr, tpr, thresholds = metrics.roc_curve(y_test, test_y_predicted)\n",
    "auc = metrics.auc(fpr, tpr)\n",
    "print(\"AUC: {0}\".format(auc))\n",
    "\n",
    "# F1\n",
    "f1 = f1_score(y_test, test_y_predicted, average='weighted')\n",
    "print(\"F1: {0}\".format(f1))\n",
    "\n",
    "# ROC curve\n",
    "false_positive_rate, true_positive_rate, thresholds = roc_curve(y_test, test_y_predicted)\n",
    "plt.plot(fpr,tpr,marker = 'o')\n",
    "plt.show()"
   ]
  },
  {
   "cell_type": "code",
   "execution_count": 29,
   "metadata": {},
   "outputs": [],
   "source": [
    "# write result to file\n",
    "f = open(\"results/files/randomForest.txt\", \"w+\")\n",
    "f.write(\"Final F1 Score = {0} \\n\".format(f1))\n",
    "f.write(\"Training Accuracy = {0} \\n\".format(train_accuracy))\n",
    "f.write(\"Testing Accuracy = {0} \\n\".format(test_accuracy))\n",
    "f.write(\"AUC = {0} \\n\".format(auc))\n",
    "f.close()"
   ]
  },
  {
   "cell_type": "code",
   "execution_count": null,
   "metadata": {},
   "outputs": [],
   "source": []
  }
 ],
 "metadata": {
  "kernelspec": {
   "display_name": "Python 3",
   "language": "python",
   "name": "python3"
  },
  "language_info": {
   "codemirror_mode": {
    "name": "ipython",
    "version": 3
   },
   "file_extension": ".py",
   "mimetype": "text/x-python",
   "name": "python",
   "nbconvert_exporter": "python",
   "pygments_lexer": "ipython3",
   "version": "3.7.3"
  }
 },
 "nbformat": 4,
 "nbformat_minor": 2
}
